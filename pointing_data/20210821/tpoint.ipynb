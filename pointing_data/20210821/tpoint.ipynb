{
 "cells": [
  {
   "cell_type": "code",
   "execution_count": 27,
   "source": [
    "import numpy as np\n",
    "\n",
    "import astropy.units as u\n",
    "from astropy.io import ascii\n",
    "from astropy.coordinates import Angle, EarthLocation, AltAz, SkyCoord\n",
    "from astropy.time import Time"
   ],
   "outputs": [],
   "metadata": {}
  },
  {
   "cell_type": "code",
   "execution_count": 50,
   "source": [
    "MMT_LOCATION = EarthLocation.from_geodetic(\"-110:53:04.4\", \"31:41:19.6\", 2600 * u.m)\n",
    "obstime = Time(\"2021-08-21T06:00:00\", format='isot')\n",
    "\n",
    "# don't strictly need time or location for our purposes, but astropy wants them for defining the alt/az frame\n",
    "aa_frame = AltAz(obstime=obstime, location=MMT_LOCATION)\n",
    "\n",
    "def tpoint(coo, ia, ie, an, aw, ca, npae, tf, tx):\n",
    "    da = -1 * ia\n",
    "    da -= an * np.sin(coo.az) * np.tan(coo.alt)\n",
    "    da -= aw * np.cos(coo.az) * np.tan(coo.alt)\n",
    "    da -= ca / np.cos(coo.alt)\n",
    "    da -= npae * np.tan(coo.alt)\n",
    "\n",
    "    de = ie\n",
    "    de -= an * np.cos(coo.az)\n",
    "    de += aw * np.sin(coo.az)\n",
    "    de -= tf * np.cos(coo.alt)\n",
    "    de -= tx / np.tan(coo.alt)\n",
    "\n",
    "    new_az = coo.az + da * u.arcsec\n",
    "    new_alt = coo.alt + de * u.arcsec\n",
    "\n",
    "    new_coo = SkyCoord(new_az, new_alt, frame=aa_frame)\n",
    "    return new_coo"
   ],
   "outputs": [],
   "metadata": {}
  },
  {
   "cell_type": "code",
   "execution_count": 30,
   "source": [
    "datafile = \"point_tweak.dat\"\n",
    "t = ascii.read(datafile, data_start=20, format='no_header', guess=False, fast_reader=False)\n",
    "az_obs = Angle(t['col1'], unit=u.degree).wrap_at(360 * u.deg)\n",
    "el_obs = Angle(t['col2'], unit=u.degree).wrap_at(360 * u.deg)\n",
    "az_raw = Angle(t['col3'], unit=u.degree).wrap_at(360 * u.deg)\n",
    "el_raw = Angle(t['col4'], unit=u.degree).wrap_at(360 * u.deg)\n",
    "coo_obs = SkyCoord(az_obs, el_obs, frame=aa_frame)\n",
    "coo_raw = SkyCoord(az_raw, el_raw, frame=aa_frame)"
   ],
   "outputs": [],
   "metadata": {}
  },
  {
   "cell_type": "code",
   "execution_count": 42,
   "source": [
    "coo_obs.separation(coo_raw).std().to(u.arcsec)"
   ],
   "outputs": [
    {
     "output_type": "execute_result",
     "data": {
      "text/plain": [
       "<Angle 321.7543166 arcsec>"
      ],
      "text/latex": [
       "$321.754\\mathrm{{}^{\\prime\\prime}}$"
      ]
     },
     "metadata": {},
     "execution_count": 42
    }
   ],
   "metadata": {}
  },
  {
   "cell_type": "code",
   "execution_count": 51,
   "source": [
    "t_coo = tpoint(coo_raw, 1212.01, -2.99, 2.51, -10.34, -10.10, 0.0, 21.41, -2.71)\n",
    "coo_obs.separation(t_coo).std().to(u.arcsec)"
   ],
   "outputs": [
    {
     "output_type": "execute_result",
     "data": {
      "text/plain": [
       "<Angle 0.46492157 arcsec>"
      ],
      "text/latex": [
       "$0.464922\\mathrm{{}^{\\prime\\prime}}$"
      ]
     },
     "metadata": {},
     "execution_count": 51
    }
   ],
   "metadata": {}
  },
  {
   "cell_type": "code",
   "execution_count": 23,
   "source": [
    "az_obs - az_raw"
   ],
   "outputs": [
    {
     "output_type": "execute_result",
     "data": {
      "text/plain": [
       "<Angle [-0.3360808, -0.3359315, -0.33442  , -0.3346809, -0.3347286,\n",
       "        -0.3349824, -0.3359607, -0.3372572, -0.3351022, -0.3355928,\n",
       "        -0.3354866, -0.3345204, -0.3341706, -0.331776 , -0.3330189,\n",
       "        -0.3315314, -0.3286501, -0.3318254, -0.3298696, -0.3230378,\n",
       "        -0.3323679, -0.3290886, -0.32377  , -0.3331476, -0.3286387,\n",
       "        -0.3218772, -0.3330954, -0.3311469, -0.3248421, -0.3335499,\n",
       "        -0.3321328, -0.3302185, -0.3338395, -0.3335516, -0.3317048,\n",
       "        -0.3342735, -0.3342565, -0.3327243, -0.3340663, -0.3337756,\n",
       "        -0.3325001, -0.3345057, -0.3344697, -0.3327072, -0.3366478,\n",
       "        -0.3339039, -0.3336627, -0.3314356, -0.3331838, -0.3310763,\n",
       "        -0.3291577, -0.3319177, -0.3295819, -0.3231104, -0.3324353,\n",
       "        -0.3291824, -0.3243064, -0.3328227, -0.3303804, -0.3242628,\n",
       "        -0.3320903, -0.3310985, -0.3278456, -0.3336246, -0.3317314,\n",
       "        -0.3298435, -0.3172888, -0.3027352, -0.2796584, -0.2934557,\n",
       "        -0.3160199, -0.319441 , -0.3207713, -0.3224237, -0.3330182,\n",
       "        -0.3350335, -0.3355226, -0.3365755, -0.3380376, -0.3295545] deg>"
      ],
      "text/latex": [
       "[$-0^\\circ20{}^\\prime09.89088{}^{\\prime\\prime}$\n",
       " $-0^\\circ20{}^\\prime09.3534{}^{\\prime\\prime}$\n",
       " $-0^\\circ20{}^\\prime03.912{}^{\\prime\\prime}$\n",
       " $-0^\\circ20{}^\\prime04.85124{}^{\\prime\\prime}$\n",
       " $-0^\\circ20{}^\\prime05.02296{}^{\\prime\\prime}$\n",
       " $-0^\\circ20{}^\\prime05.93664{}^{\\prime\\prime}$\n",
       " $-0^\\circ20{}^\\prime09.45852{}^{\\prime\\prime}$\n",
       " $-0^\\circ20{}^\\prime14.12592{}^{\\prime\\prime}$\n",
       " $-0^\\circ20{}^\\prime06.36792{}^{\\prime\\prime}$\n",
       " $-0^\\circ20{}^\\prime08.13408{}^{\\prime\\prime}$\n",
       " $-0^\\circ20{}^\\prime07.75176{}^{\\prime\\prime}$\n",
       " $-0^\\circ20{}^\\prime04.27344{}^{\\prime\\prime}$\n",
       " $-0^\\circ20{}^\\prime03.01416{}^{\\prime\\prime}$\n",
       " $-0^\\circ19{}^\\prime54.3936{}^{\\prime\\prime}$\n",
       " $-0^\\circ19{}^\\prime58.86804{}^{\\prime\\prime}$\n",
       " $-0^\\circ19{}^\\prime53.51304{}^{\\prime\\prime}$\n",
       " $-0^\\circ19{}^\\prime43.14036{}^{\\prime\\prime}$\n",
       " $-0^\\circ19{}^\\prime54.57144{}^{\\prime\\prime}$\n",
       " $-0^\\circ19{}^\\prime47.53056{}^{\\prime\\prime}$\n",
       " $-0^\\circ19{}^\\prime22.93608{}^{\\prime\\prime}$\n",
       " $-0^\\circ19{}^\\prime56.52444{}^{\\prime\\prime}$\n",
       " $-0^\\circ19{}^\\prime44.71896{}^{\\prime\\prime}$\n",
       " $-0^\\circ19{}^\\prime25.572{}^{\\prime\\prime}$\n",
       " $-0^\\circ19{}^\\prime59.33136{}^{\\prime\\prime}$\n",
       " $-0^\\circ19{}^\\prime43.09932{}^{\\prime\\prime}$\n",
       " $-0^\\circ19{}^\\prime18.75792{}^{\\prime\\prime}$\n",
       " $-0^\\circ19{}^\\prime59.14344{}^{\\prime\\prime}$\n",
       " $-0^\\circ19{}^\\prime52.12884{}^{\\prime\\prime}$\n",
       " $-0^\\circ19{}^\\prime29.43156{}^{\\prime\\prime}$\n",
       " $-0^\\circ20{}^\\prime00.77964{}^{\\prime\\prime}$\n",
       " $-0^\\circ19{}^\\prime55.67808{}^{\\prime\\prime}$\n",
       " $-0^\\circ19{}^\\prime48.7866{}^{\\prime\\prime}$\n",
       " $-0^\\circ20{}^\\prime01.8222{}^{\\prime\\prime}$\n",
       " $-0^\\circ20{}^\\prime00.78576{}^{\\prime\\prime}$\n",
       " $-0^\\circ19{}^\\prime54.13728{}^{\\prime\\prime}$\n",
       " $-0^\\circ20{}^\\prime03.3846{}^{\\prime\\prime}$\n",
       " $-0^\\circ20{}^\\prime03.3234{}^{\\prime\\prime}$\n",
       " $-0^\\circ19{}^\\prime57.80748{}^{\\prime\\prime}$\n",
       " $-0^\\circ20{}^\\prime02.63868{}^{\\prime\\prime}$\n",
       " $-0^\\circ20{}^\\prime01.59216{}^{\\prime\\prime}$\n",
       " $-0^\\circ19{}^\\prime57.00036{}^{\\prime\\prime}$\n",
       " $-0^\\circ20{}^\\prime04.22052{}^{\\prime\\prime}$\n",
       " $-0^\\circ20{}^\\prime04.09092{}^{\\prime\\prime}$\n",
       " $-0^\\circ19{}^\\prime57.74592{}^{\\prime\\prime}$\n",
       " $-0^\\circ20{}^\\prime11.93208{}^{\\prime\\prime}$\n",
       " $-0^\\circ20{}^\\prime02.05404{}^{\\prime\\prime}$\n",
       " $-0^\\circ20{}^\\prime01.18572{}^{\\prime\\prime}$\n",
       " $-0^\\circ19{}^\\prime53.16816{}^{\\prime\\prime}$\n",
       " $-0^\\circ19{}^\\prime59.46168{}^{\\prime\\prime}$\n",
       " $-0^\\circ19{}^\\prime51.87468{}^{\\prime\\prime}$\n",
       " $-0^\\circ19{}^\\prime44.96772{}^{\\prime\\prime}$\n",
       " $-0^\\circ19{}^\\prime54.90372{}^{\\prime\\prime}$\n",
       " $-0^\\circ19{}^\\prime46.49484{}^{\\prime\\prime}$\n",
       " $-0^\\circ19{}^\\prime23.19744{}^{\\prime\\prime}$\n",
       " $-0^\\circ19{}^\\prime56.76708{}^{\\prime\\prime}$\n",
       " $-0^\\circ19{}^\\prime45.05664{}^{\\prime\\prime}$\n",
       " $-0^\\circ19{}^\\prime27.50304{}^{\\prime\\prime}$\n",
       " $-0^\\circ19{}^\\prime58.16172{}^{\\prime\\prime}$\n",
       " $-0^\\circ19{}^\\prime49.36944{}^{\\prime\\prime}$\n",
       " $-0^\\circ19{}^\\prime27.34608{}^{\\prime\\prime}$\n",
       " $-0^\\circ19{}^\\prime55.52508{}^{\\prime\\prime}$\n",
       " $-0^\\circ19{}^\\prime51.9546{}^{\\prime\\prime}$\n",
       " $-0^\\circ19{}^\\prime40.24416{}^{\\prime\\prime}$\n",
       " $-0^\\circ20{}^\\prime01.04856{}^{\\prime\\prime}$\n",
       " $-0^\\circ19{}^\\prime54.23304{}^{\\prime\\prime}$\n",
       " $-0^\\circ19{}^\\prime47.4366{}^{\\prime\\prime}$\n",
       " $-0^\\circ19{}^\\prime02.23968{}^{\\prime\\prime}$\n",
       " $-0^\\circ18{}^\\prime09.84672{}^{\\prime\\prime}$\n",
       " $-0^\\circ16{}^\\prime46.77024{}^{\\prime\\prime}$\n",
       " $-0^\\circ17{}^\\prime36.44052{}^{\\prime\\prime}$\n",
       " $-0^\\circ18{}^\\prime57.67164{}^{\\prime\\prime}$\n",
       " $-0^\\circ19{}^\\prime09.9876{}^{\\prime\\prime}$\n",
       " $-0^\\circ19{}^\\prime14.77668{}^{\\prime\\prime}$\n",
       " $-0^\\circ19{}^\\prime20.72532{}^{\\prime\\prime}$\n",
       " $-0^\\circ19{}^\\prime58.86552{}^{\\prime\\prime}$\n",
       " $-0^\\circ20{}^\\prime06.1206{}^{\\prime\\prime}$\n",
       " $-0^\\circ20{}^\\prime07.88136{}^{\\prime\\prime}$\n",
       " $-0^\\circ20{}^\\prime11.6718{}^{\\prime\\prime}$\n",
       " $-0^\\circ20{}^\\prime16.93536{}^{\\prime\\prime}$\n",
       " $-0^\\circ19{}^\\prime46.3962{}^{\\prime\\prime}$]"
      ]
     },
     "metadata": {},
     "execution_count": 23
    }
   ],
   "metadata": {}
  }
 ],
 "metadata": {
  "orig_nbformat": 4,
  "language_info": {
   "name": "python",
   "version": "3.9.6",
   "mimetype": "text/x-python",
   "codemirror_mode": {
    "name": "ipython",
    "version": 3
   },
   "pygments_lexer": "ipython3",
   "nbconvert_exporter": "python",
   "file_extension": ".py"
  },
  "kernelspec": {
   "name": "python3",
   "display_name": "Python 3.9.6 64-bit ('py39': conda)"
  },
  "interpreter": {
   "hash": "36cd9ef3d9c3aa7b0f79d6280024dba3181a08bf729ddd2fa92a9c6a1cd95c10"
  }
 },
 "nbformat": 4,
 "nbformat_minor": 2
}